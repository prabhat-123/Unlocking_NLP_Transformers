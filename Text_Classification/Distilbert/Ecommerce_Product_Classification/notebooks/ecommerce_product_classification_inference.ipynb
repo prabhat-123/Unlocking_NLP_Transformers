{
  "nbformat": 4,
  "nbformat_minor": 0,
  "metadata": {
    "colab": {
      "provenance": []
    },
    "kernelspec": {
      "name": "python3",
      "display_name": "Python 3"
    },
    "language_info": {
      "name": "python"
    }
  },
  "cells": [
    {
      "cell_type": "markdown",
      "source": [
        "This is the classification based E-commerce text dataset for 4 categories - \"Electronics\", \"Household\", \"Books\" and \"Clothing & Accessories\", which almost cover 80% of any E-commerce website.\n",
        "\n",
        "https://www.kaggle.com/datasets/saurabhshahane/ecommerce-text-classification\n"
      ],
      "metadata": {
        "id": "nPPBA8OZQCtE"
      }
    },
    {
      "cell_type": "markdown",
      "source": [
        "## Installation of Kaggle, Wandb and Transformers"
      ],
      "metadata": {
        "id": "i-vJRjGMFZ4D"
      }
    },
    {
      "cell_type": "code",
      "execution_count": 2,
      "metadata": {
        "colab": {
          "base_uri": "https://localhost:8080/"
        },
        "id": "cgfOnj0dPBoQ",
        "outputId": "6e03b719-f573-4919-ac8e-58605145c691"
      },
      "outputs": [
        {
          "output_type": "stream",
          "name": "stdout",
          "text": [
            "Collecting transformers\n",
            "  Downloading transformers-4.32.0-py3-none-any.whl (7.5 MB)\n",
            "\u001b[2K     \u001b[90m━━━━━━━━━━━━━━━━━━━━━━━━━━━━━━━━━━━━━━━━\u001b[0m \u001b[32m7.5/7.5 MB\u001b[0m \u001b[31m19.2 MB/s\u001b[0m eta \u001b[36m0:00:00\u001b[0m\n",
            "\u001b[?25hRequirement already satisfied: filelock in /usr/local/lib/python3.10/dist-packages (from transformers) (3.12.2)\n",
            "Collecting huggingface-hub<1.0,>=0.15.1 (from transformers)\n",
            "  Downloading huggingface_hub-0.16.4-py3-none-any.whl (268 kB)\n",
            "\u001b[2K     \u001b[90m━━━━━━━━━━━━━━━━━━━━━━━━━━━━━━━━━━━━━━━\u001b[0m \u001b[32m268.8/268.8 kB\u001b[0m \u001b[31m9.9 MB/s\u001b[0m eta \u001b[36m0:00:00\u001b[0m\n",
            "\u001b[?25hRequirement already satisfied: numpy>=1.17 in /usr/local/lib/python3.10/dist-packages (from transformers) (1.23.5)\n",
            "Requirement already satisfied: packaging>=20.0 in /usr/local/lib/python3.10/dist-packages (from transformers) (23.1)\n",
            "Requirement already satisfied: pyyaml>=5.1 in /usr/local/lib/python3.10/dist-packages (from transformers) (6.0.1)\n",
            "Requirement already satisfied: regex!=2019.12.17 in /usr/local/lib/python3.10/dist-packages (from transformers) (2023.6.3)\n",
            "Requirement already satisfied: requests in /usr/local/lib/python3.10/dist-packages (from transformers) (2.31.0)\n",
            "Collecting tokenizers!=0.11.3,<0.14,>=0.11.1 (from transformers)\n",
            "  Downloading tokenizers-0.13.3-cp310-cp310-manylinux_2_17_x86_64.manylinux2014_x86_64.whl (7.8 MB)\n",
            "\u001b[2K     \u001b[90m━━━━━━━━━━━━━━━━━━━━━━━━━━━━━━━━━━━━━━━━\u001b[0m \u001b[32m7.8/7.8 MB\u001b[0m \u001b[31m26.7 MB/s\u001b[0m eta \u001b[36m0:00:00\u001b[0m\n",
            "\u001b[?25hCollecting safetensors>=0.3.1 (from transformers)\n",
            "  Downloading safetensors-0.3.3-cp310-cp310-manylinux_2_17_x86_64.manylinux2014_x86_64.whl (1.3 MB)\n",
            "\u001b[2K     \u001b[90m━━━━━━━━━━━━━━━━━━━━━━━━━━━━━━━━━━━━━━━━\u001b[0m \u001b[32m1.3/1.3 MB\u001b[0m \u001b[31m31.9 MB/s\u001b[0m eta \u001b[36m0:00:00\u001b[0m\n",
            "\u001b[?25hRequirement already satisfied: tqdm>=4.27 in /usr/local/lib/python3.10/dist-packages (from transformers) (4.66.1)\n",
            "Requirement already satisfied: fsspec in /usr/local/lib/python3.10/dist-packages (from huggingface-hub<1.0,>=0.15.1->transformers) (2023.6.0)\n",
            "Requirement already satisfied: typing-extensions>=3.7.4.3 in /usr/local/lib/python3.10/dist-packages (from huggingface-hub<1.0,>=0.15.1->transformers) (4.7.1)\n",
            "Requirement already satisfied: charset-normalizer<4,>=2 in /usr/local/lib/python3.10/dist-packages (from requests->transformers) (3.2.0)\n",
            "Requirement already satisfied: idna<4,>=2.5 in /usr/local/lib/python3.10/dist-packages (from requests->transformers) (3.4)\n",
            "Requirement already satisfied: urllib3<3,>=1.21.1 in /usr/local/lib/python3.10/dist-packages (from requests->transformers) (2.0.4)\n",
            "Requirement already satisfied: certifi>=2017.4.17 in /usr/local/lib/python3.10/dist-packages (from requests->transformers) (2023.7.22)\n",
            "Installing collected packages: tokenizers, safetensors, huggingface-hub, transformers\n",
            "Successfully installed huggingface-hub-0.16.4 safetensors-0.3.3 tokenizers-0.13.3 transformers-4.32.0\n"
          ]
        }
      ],
      "source": [
        "!pip install transformers"
      ]
    },
    {
      "cell_type": "code",
      "source": [
        "import os\n",
        "import gdown\n",
        "import pickle\n",
        "import zipfile\n",
        "import warnings\n",
        "import numpy as np\n",
        "import pandas as pd\n",
        "\n",
        "os.environ['TF_CPP_MIN_LOG_LEVEL'] = '2'\n",
        "os.environ['TF_ENABLE_ONEDNN_OPTS'] = '0'\n",
        "\n",
        "warnings.filterwarnings('ignore')\n",
        "\n",
        "import tensorflow as tf\n",
        "from sklearn.preprocessing import LabelEncoder"
      ],
      "metadata": {
        "id": "KJ19fFoCPM58"
      },
      "execution_count": 4,
      "outputs": []
    },
    {
      "cell_type": "markdown",
      "source": [
        "## Downloading the preprocessed data from google drive"
      ],
      "metadata": {
        "id": "Q7K5HSwqTJPk"
      }
    },
    {
      "cell_type": "code",
      "source": [
        "!gdown https://drive.google.com/uc?id=1-4yfh2Q2dONZyGVaJbn23jQvcKqr_n8Q\n",
        "!gdown https://drive.google.com/uc?id=10FwxJr-2aQ5Jr8nypw3y8d_q0H3ZcPhW"
      ],
      "metadata": {
        "colab": {
          "base_uri": "https://localhost:8080/"
        },
        "id": "89VJXVlGSab5",
        "outputId": "fd21c3e5-d196-49eb-cae0-8466c193e584"
      },
      "execution_count": 3,
      "outputs": [
        {
          "output_type": "stream",
          "name": "stdout",
          "text": [
            "Downloading...\n",
            "From: https://drive.google.com/uc?id=1-4yfh2Q2dONZyGVaJbn23jQvcKqr_n8Q\n",
            "To: /content/ecommerce_product_classification.csv\n",
            "100% 65.1M/65.1M [00:01<00:00, 54.4MB/s]\n",
            "Downloading...\n",
            "From: https://drive.google.com/uc?id=10FwxJr-2aQ5Jr8nypw3y8d_q0H3ZcPhW\n",
            "To: /content/Ecommerce_Product_Classification.zip\n",
            "100% 247M/247M [00:02<00:00, 101MB/s]\n"
          ]
        }
      ]
    },
    {
      "cell_type": "markdown",
      "source": [
        "## Unzipping the label encoder and the pretrained distilbert model"
      ],
      "metadata": {
        "id": "aO8eqzAt9Sli"
      }
    },
    {
      "cell_type": "code",
      "source": [
        "archive = zipfile.ZipFile('/content/Ecommerce_Product_Classification.zip')\n",
        "archive.extractall(\"/content\")"
      ],
      "metadata": {
        "id": "PySlVD579Svj"
      },
      "execution_count": 5,
      "outputs": []
    },
    {
      "cell_type": "markdown",
      "source": [
        "## Loading a pandas dataframe"
      ],
      "metadata": {
        "id": "T3SWhVQDTWsv"
      }
    },
    {
      "cell_type": "code",
      "source": [
        "df = pd.read_csv('ecommerce_product_classification.csv')\n",
        "print(df.shape)\n",
        "df.head()"
      ],
      "metadata": {
        "colab": {
          "base_uri": "https://localhost:8080/",
          "height": 310
        },
        "id": "uEMFi9gPPtjh",
        "outputId": "db0f5c9d-ecdf-4df2-fffe-720203455476"
      },
      "execution_count": 6,
      "outputs": [
        {
          "output_type": "stream",
          "name": "stdout",
          "text": [
            "(50424, 4)\n"
          ]
        },
        {
          "output_type": "execute_result",
          "data": {
            "text/plain": [
              "  product_type                                        description  \\\n",
              "0    Household  Paper Plane Design Framed Wall Hanging Motivat...   \n",
              "1    Household  SAF 'Floral' Framed Painting (Wood, 30 inch x ...   \n",
              "2    Household  SAF 'UV Textured Modern Art Print Framed' Pain...   \n",
              "3    Household  SAF Flower Print Framed Painting (Synthetic, 1...   \n",
              "4    Household  Incredible Gifts India Wooden Happy Birthday U...   \n",
              "\n",
              "                                   clean_description  encoded_product_type  \n",
              "0  paper plane design framed wall hanging motivat...                     3  \n",
              "1  saf ' floral ' framed painting ( wood , inch x...                     3  \n",
              "2  saf ' uv textured modern art print framed ' pa...                     3  \n",
              "3  saf flower print framed painting ( synthetic ,...                     3  \n",
              "4  incredible gifts india wooden happy birthday u...                     3  "
            ],
            "text/html": [
              "\n",
              "  <div id=\"df-15e58835-d008-4ac5-9e1f-6665e2f1d45c\" class=\"colab-df-container\">\n",
              "    <div>\n",
              "<style scoped>\n",
              "    .dataframe tbody tr th:only-of-type {\n",
              "        vertical-align: middle;\n",
              "    }\n",
              "\n",
              "    .dataframe tbody tr th {\n",
              "        vertical-align: top;\n",
              "    }\n",
              "\n",
              "    .dataframe thead th {\n",
              "        text-align: right;\n",
              "    }\n",
              "</style>\n",
              "<table border=\"1\" class=\"dataframe\">\n",
              "  <thead>\n",
              "    <tr style=\"text-align: right;\">\n",
              "      <th></th>\n",
              "      <th>product_type</th>\n",
              "      <th>description</th>\n",
              "      <th>clean_description</th>\n",
              "      <th>encoded_product_type</th>\n",
              "    </tr>\n",
              "  </thead>\n",
              "  <tbody>\n",
              "    <tr>\n",
              "      <th>0</th>\n",
              "      <td>Household</td>\n",
              "      <td>Paper Plane Design Framed Wall Hanging Motivat...</td>\n",
              "      <td>paper plane design framed wall hanging motivat...</td>\n",
              "      <td>3</td>\n",
              "    </tr>\n",
              "    <tr>\n",
              "      <th>1</th>\n",
              "      <td>Household</td>\n",
              "      <td>SAF 'Floral' Framed Painting (Wood, 30 inch x ...</td>\n",
              "      <td>saf ' floral ' framed painting ( wood , inch x...</td>\n",
              "      <td>3</td>\n",
              "    </tr>\n",
              "    <tr>\n",
              "      <th>2</th>\n",
              "      <td>Household</td>\n",
              "      <td>SAF 'UV Textured Modern Art Print Framed' Pain...</td>\n",
              "      <td>saf ' uv textured modern art print framed ' pa...</td>\n",
              "      <td>3</td>\n",
              "    </tr>\n",
              "    <tr>\n",
              "      <th>3</th>\n",
              "      <td>Household</td>\n",
              "      <td>SAF Flower Print Framed Painting (Synthetic, 1...</td>\n",
              "      <td>saf flower print framed painting ( synthetic ,...</td>\n",
              "      <td>3</td>\n",
              "    </tr>\n",
              "    <tr>\n",
              "      <th>4</th>\n",
              "      <td>Household</td>\n",
              "      <td>Incredible Gifts India Wooden Happy Birthday U...</td>\n",
              "      <td>incredible gifts india wooden happy birthday u...</td>\n",
              "      <td>3</td>\n",
              "    </tr>\n",
              "  </tbody>\n",
              "</table>\n",
              "</div>\n",
              "    <div class=\"colab-df-buttons\">\n",
              "\n",
              "  <div class=\"colab-df-container\">\n",
              "    <button class=\"colab-df-convert\" onclick=\"convertToInteractive('df-15e58835-d008-4ac5-9e1f-6665e2f1d45c')\"\n",
              "            title=\"Convert this dataframe to an interactive table.\"\n",
              "            style=\"display:none;\">\n",
              "\n",
              "  <svg xmlns=\"http://www.w3.org/2000/svg\" height=\"24px\" viewBox=\"0 -960 960 960\">\n",
              "    <path d=\"M120-120v-720h720v720H120Zm60-500h600v-160H180v160Zm220 220h160v-160H400v160Zm0 220h160v-160H400v160ZM180-400h160v-160H180v160Zm440 0h160v-160H620v160ZM180-180h160v-160H180v160Zm440 0h160v-160H620v160Z\"/>\n",
              "  </svg>\n",
              "    </button>\n",
              "\n",
              "  <style>\n",
              "    .colab-df-container {\n",
              "      display:flex;\n",
              "      gap: 12px;\n",
              "    }\n",
              "\n",
              "    .colab-df-convert {\n",
              "      background-color: #E8F0FE;\n",
              "      border: none;\n",
              "      border-radius: 50%;\n",
              "      cursor: pointer;\n",
              "      display: none;\n",
              "      fill: #1967D2;\n",
              "      height: 32px;\n",
              "      padding: 0 0 0 0;\n",
              "      width: 32px;\n",
              "    }\n",
              "\n",
              "    .colab-df-convert:hover {\n",
              "      background-color: #E2EBFA;\n",
              "      box-shadow: 0px 1px 2px rgba(60, 64, 67, 0.3), 0px 1px 3px 1px rgba(60, 64, 67, 0.15);\n",
              "      fill: #174EA6;\n",
              "    }\n",
              "\n",
              "    .colab-df-buttons div {\n",
              "      margin-bottom: 4px;\n",
              "    }\n",
              "\n",
              "    [theme=dark] .colab-df-convert {\n",
              "      background-color: #3B4455;\n",
              "      fill: #D2E3FC;\n",
              "    }\n",
              "\n",
              "    [theme=dark] .colab-df-convert:hover {\n",
              "      background-color: #434B5C;\n",
              "      box-shadow: 0px 1px 3px 1px rgba(0, 0, 0, 0.15);\n",
              "      filter: drop-shadow(0px 1px 2px rgba(0, 0, 0, 0.3));\n",
              "      fill: #FFFFFF;\n",
              "    }\n",
              "  </style>\n",
              "\n",
              "    <script>\n",
              "      const buttonEl =\n",
              "        document.querySelector('#df-15e58835-d008-4ac5-9e1f-6665e2f1d45c button.colab-df-convert');\n",
              "      buttonEl.style.display =\n",
              "        google.colab.kernel.accessAllowed ? 'block' : 'none';\n",
              "\n",
              "      async function convertToInteractive(key) {\n",
              "        const element = document.querySelector('#df-15e58835-d008-4ac5-9e1f-6665e2f1d45c');\n",
              "        const dataTable =\n",
              "          await google.colab.kernel.invokeFunction('convertToInteractive',\n",
              "                                                    [key], {});\n",
              "        if (!dataTable) return;\n",
              "\n",
              "        const docLinkHtml = 'Like what you see? Visit the ' +\n",
              "          '<a target=\"_blank\" href=https://colab.research.google.com/notebooks/data_table.ipynb>data table notebook</a>'\n",
              "          + ' to learn more about interactive tables.';\n",
              "        element.innerHTML = '';\n",
              "        dataTable['output_type'] = 'display_data';\n",
              "        await google.colab.output.renderOutput(dataTable, element);\n",
              "        const docLink = document.createElement('div');\n",
              "        docLink.innerHTML = docLinkHtml;\n",
              "        element.appendChild(docLink);\n",
              "      }\n",
              "    </script>\n",
              "  </div>\n",
              "\n",
              "\n",
              "<div id=\"df-d54a80a6-3eb9-463d-a0f8-e410cbd13bf9\">\n",
              "  <button class=\"colab-df-quickchart\" onclick=\"quickchart('df-d54a80a6-3eb9-463d-a0f8-e410cbd13bf9')\"\n",
              "            title=\"Suggest charts.\"\n",
              "            style=\"display:none;\">\n",
              "\n",
              "<svg xmlns=\"http://www.w3.org/2000/svg\" height=\"24px\"viewBox=\"0 0 24 24\"\n",
              "     width=\"24px\">\n",
              "    <g>\n",
              "        <path d=\"M19 3H5c-1.1 0-2 .9-2 2v14c0 1.1.9 2 2 2h14c1.1 0 2-.9 2-2V5c0-1.1-.9-2-2-2zM9 17H7v-7h2v7zm4 0h-2V7h2v10zm4 0h-2v-4h2v4z\"/>\n",
              "    </g>\n",
              "</svg>\n",
              "  </button>\n",
              "\n",
              "<style>\n",
              "  .colab-df-quickchart {\n",
              "    background-color: #E8F0FE;\n",
              "    border: none;\n",
              "    border-radius: 50%;\n",
              "    cursor: pointer;\n",
              "    display: none;\n",
              "    fill: #1967D2;\n",
              "    height: 32px;\n",
              "    padding: 0 0 0 0;\n",
              "    width: 32px;\n",
              "  }\n",
              "\n",
              "  .colab-df-quickchart:hover {\n",
              "    background-color: #E2EBFA;\n",
              "    box-shadow: 0px 1px 2px rgba(60, 64, 67, 0.3), 0px 1px 3px 1px rgba(60, 64, 67, 0.15);\n",
              "    fill: #174EA6;\n",
              "  }\n",
              "\n",
              "  [theme=dark] .colab-df-quickchart {\n",
              "    background-color: #3B4455;\n",
              "    fill: #D2E3FC;\n",
              "  }\n",
              "\n",
              "  [theme=dark] .colab-df-quickchart:hover {\n",
              "    background-color: #434B5C;\n",
              "    box-shadow: 0px 1px 3px 1px rgba(0, 0, 0, 0.15);\n",
              "    filter: drop-shadow(0px 1px 2px rgba(0, 0, 0, 0.3));\n",
              "    fill: #FFFFFF;\n",
              "  }\n",
              "</style>\n",
              "\n",
              "  <script>\n",
              "    async function quickchart(key) {\n",
              "      const charts = await google.colab.kernel.invokeFunction(\n",
              "          'suggestCharts', [key], {});\n",
              "    }\n",
              "    (() => {\n",
              "      let quickchartButtonEl =\n",
              "        document.querySelector('#df-d54a80a6-3eb9-463d-a0f8-e410cbd13bf9 button');\n",
              "      quickchartButtonEl.style.display =\n",
              "        google.colab.kernel.accessAllowed ? 'block' : 'none';\n",
              "    })();\n",
              "  </script>\n",
              "</div>\n",
              "    </div>\n",
              "  </div>\n"
            ]
          },
          "metadata": {},
          "execution_count": 6
        }
      ]
    },
    {
      "cell_type": "code",
      "source": [
        "df['clean_description'][0]"
      ],
      "metadata": {
        "colab": {
          "base_uri": "https://localhost:8080/",
          "height": 192
        },
        "id": "zTCAq_SsPzWf",
        "outputId": "38e5dfb3-ff0a-4f00-c255-8ec8de7fc293"
      },
      "execution_count": 7,
      "outputs": [
        {
          "output_type": "execute_result",
          "data": {
            "text/plain": [
              "'paper plane design framed wall hanging motivational office decor art prints ( 8.7 x 8.7 inch ) - set painting synthetic frame uv textured print gives multi effects attracts . special series paintings makes wall beautiful gives royal touch . painting ready hang , proud possess unique painting niche apart . use modern efficient printing technology prints , inks precision epson , roland hp printers . innovative hd printing technique results durable spectacular looking prints highest lifetime . print solely - notch % inks , achieve brilliant true colours . high level uv resistance , prints retain beautiful colours years . add colour style living space digitally printed painting . pleasure eternal bliss.so bring home elegant print lushed rich colors makes sheer elegance friends family.it treasured forever lucky recipient . liven place intriguing paintings high definition hd graphic digital prints home , office room .'"
            ],
            "application/vnd.google.colaboratory.intrinsic+json": {
              "type": "string"
            }
          },
          "metadata": {},
          "execution_count": 7
        }
      ]
    },
    {
      "cell_type": "markdown",
      "source": [
        "## Checking Null Values\n"
      ],
      "metadata": {
        "id": "UNClWrmPTQqx"
      }
    },
    {
      "cell_type": "code",
      "source": [
        "df.isnull().sum()"
      ],
      "metadata": {
        "colab": {
          "base_uri": "https://localhost:8080/"
        },
        "id": "lAvZBtmvTPne",
        "outputId": "0986d1b7-1d62-4c1a-ac0f-b37cf65e7dba"
      },
      "execution_count": 8,
      "outputs": [
        {
          "output_type": "execute_result",
          "data": {
            "text/plain": [
              "product_type            0\n",
              "description             0\n",
              "clean_description       5\n",
              "encoded_product_type    0\n",
              "dtype: int64"
            ]
          },
          "metadata": {},
          "execution_count": 8
        }
      ]
    },
    {
      "cell_type": "markdown",
      "source": [
        "## Dropping rows having null values"
      ],
      "metadata": {
        "id": "rft4lGjM2EVi"
      }
    },
    {
      "cell_type": "code",
      "source": [
        "df = df.dropna(subset=['clean_description'])"
      ],
      "metadata": {
        "id": "XWfYaJFkTPvn"
      },
      "execution_count": 9,
      "outputs": []
    },
    {
      "cell_type": "code",
      "source": [
        "df.isnull().sum()"
      ],
      "metadata": {
        "colab": {
          "base_uri": "https://localhost:8080/"
        },
        "id": "1oMjuhKFTP6Y",
        "outputId": "7b5d8dad-7624-4bea-a4ab-dccb981ebc24"
      },
      "execution_count": 10,
      "outputs": [
        {
          "output_type": "execute_result",
          "data": {
            "text/plain": [
              "product_type            0\n",
              "description             0\n",
              "clean_description       0\n",
              "encoded_product_type    0\n",
              "dtype: int64"
            ]
          },
          "metadata": {},
          "execution_count": 10
        }
      ]
    },
    {
      "cell_type": "markdown",
      "source": [
        "## Loading the model and the tokenizer For Inference\n"
      ],
      "metadata": {
        "id": "C_G5aJ0-v4cj"
      }
    },
    {
      "cell_type": "code",
      "source": [
        "from transformers import DistilBertTokenizerFast, TFDistilBertForSequenceClassification"
      ],
      "metadata": {
        "id": "FxO4c9f53CdN"
      },
      "execution_count": 11,
      "outputs": []
    },
    {
      "cell_type": "code",
      "source": [
        "save_directory = \"/content/saved_models\""
      ],
      "metadata": {
        "id": "BIM81DGT-Axc"
      },
      "execution_count": 12,
      "outputs": []
    },
    {
      "cell_type": "code",
      "source": [
        "loaded_tokenizer = DistilBertTokenizerFast.from_pretrained(save_directory)\n",
        "loaded_model = TFDistilBertForSequenceClassification.from_pretrained(save_directory)"
      ],
      "metadata": {
        "colab": {
          "base_uri": "https://localhost:8080/"
        },
        "id": "9Bx4CC6ivVEj",
        "outputId": "e6c82f40-2cbe-4197-8391-23246b54018e"
      },
      "execution_count": 13,
      "outputs": [
        {
          "output_type": "stream",
          "name": "stderr",
          "text": [
            "All model checkpoint layers were used when initializing TFDistilBertForSequenceClassification.\n",
            "\n",
            "All the layers of TFDistilBertForSequenceClassification were initialized from the model checkpoint at /content/saved_models.\n",
            "If your task is similar to the task the model of the checkpoint was trained on, you can already use TFDistilBertForSequenceClassification for predictions without further training.\n"
          ]
        }
      ]
    },
    {
      "cell_type": "markdown",
      "source": [
        "## Load the label encoder pickle file"
      ],
      "metadata": {
        "id": "6rG0rox9-JtN"
      }
    },
    {
      "cell_type": "code",
      "source": [
        "# Later, when you want to inverse transform\n",
        "encoded_pickle_file = \"/content/label_encoder/ecommerce_product_classification_label_encoder.pkl\"\n",
        "with open(encoded_pickle_file, 'rb') as encoder_file:\n",
        "    loaded_label_encoder = pickle.load(encoder_file)\n"
      ],
      "metadata": {
        "id": "wn1Fepav3UHt"
      },
      "execution_count": 14,
      "outputs": []
    },
    {
      "cell_type": "markdown",
      "source": [
        "## Inference"
      ],
      "metadata": {
        "id": "ok260e1nwbmK"
      }
    },
    {
      "cell_type": "code",
      "source": [
        "test_text = df['clean_description'][1234]\n",
        "test_text"
      ],
      "metadata": {
        "colab": {
          "base_uri": "https://localhost:8080/",
          "height": 53
        },
        "id": "fdJkj0T3vVLa",
        "outputId": "c7039d53-3ff3-4464-c962-f50a06dfaf25"
      },
      "execution_count": 16,
      "outputs": [
        {
          "output_type": "execute_result",
          "data": {
            "text/plain": [
              "'deckup bei - door shoe rack wooden legs ( dark wenge , matte finish ) color : brown engineered wood . comes doors - footwear invisible closed . ventilated clean hygienic .'"
            ],
            "application/vnd.google.colaboratory.intrinsic+json": {
              "type": "string"
            }
          },
          "metadata": {},
          "execution_count": 16
        }
      ]
    },
    {
      "cell_type": "code",
      "source": [
        "predict_input = loaded_tokenizer.encode(test_text,\n",
        "                                 truncation=True,\n",
        "                                 padding=True,\n",
        "                                 return_tensors=\"tf\")\n",
        "print(predict_input)"
      ],
      "metadata": {
        "id": "6Ldga-Q1DAxH",
        "colab": {
          "base_uri": "https://localhost:8080/"
        },
        "outputId": "45548b3c-f9ca-45fd-cd6c-fd27eddc795a"
      },
      "execution_count": 17,
      "outputs": [
        {
          "output_type": "stream",
          "name": "stdout",
          "text": [
            "tf.Tensor(\n",
            "[[  101  5877  6279 21388  1011  2341 10818 14513  4799  3456  1006  2601\n",
            "  19181  3351  1010  4717  2063  3926  1007  3609  1024  2829 13685  3536\n",
            "   1012  3310  4303  1011  3329 16689  8841  2701  1012 18834 11733  3064\n",
            "   4550  1044  2100 11239  8713  1012   102]], shape=(1, 43), dtype=int32)\n"
          ]
        }
      ]
    },
    {
      "cell_type": "code",
      "source": [
        "output = loaded_model(predict_input)[0]\n",
        "print(output)"
      ],
      "metadata": {
        "id": "UeY0e3RqwiEj",
        "colab": {
          "base_uri": "https://localhost:8080/"
        },
        "outputId": "9ac10a70-4179-4869-e42b-d9a59c42241c"
      },
      "execution_count": 20,
      "outputs": [
        {
          "output_type": "stream",
          "name": "stdout",
          "text": [
            "tf.Tensor([[-3.1534643 -2.4930713 -3.198036   6.2556047]], shape=(1, 4), dtype=float32)\n"
          ]
        }
      ]
    },
    {
      "cell_type": "code",
      "source": [
        "prediction_value = tf.argmax(output, axis=1).numpy()[0]\n",
        "prediction_value"
      ],
      "metadata": {
        "colab": {
          "base_uri": "https://localhost:8080/"
        },
        "id": "__fsAqz7wmy4",
        "outputId": "fd91ed0f-70dd-40ca-a808-fcb6bae353d4"
      },
      "execution_count": 21,
      "outputs": [
        {
          "output_type": "execute_result",
          "data": {
            "text/plain": [
              "3"
            ]
          },
          "metadata": {},
          "execution_count": 21
        }
      ]
    },
    {
      "cell_type": "markdown",
      "source": [
        "## Prediction"
      ],
      "metadata": {
        "id": "KflOI9PN_Xvy"
      }
    },
    {
      "cell_type": "code",
      "source": [
        "loaded_label_encoder.inverse_transform([prediction_value])[0]"
      ],
      "metadata": {
        "colab": {
          "base_uri": "https://localhost:8080/",
          "height": 35
        },
        "id": "lJbVUKfYw6JT",
        "outputId": "737bde5f-4746-47fb-db72-2c7c8fb92080"
      },
      "execution_count": 22,
      "outputs": [
        {
          "output_type": "execute_result",
          "data": {
            "text/plain": [
              "'Household'"
            ],
            "application/vnd.google.colaboratory.intrinsic+json": {
              "type": "string"
            }
          },
          "metadata": {},
          "execution_count": 22
        }
      ]
    },
    {
      "cell_type": "markdown",
      "source": [
        "## Original labels"
      ],
      "metadata": {
        "id": "lMERfNhY_ZnZ"
      }
    },
    {
      "cell_type": "code",
      "source": [
        "df['product_type'][1234]\n"
      ],
      "metadata": {
        "colab": {
          "base_uri": "https://localhost:8080/",
          "height": 35
        },
        "id": "dNo3uy4h_O1X",
        "outputId": "9e1baa3a-aacc-4082-ab29-9216118b4488"
      },
      "execution_count": 23,
      "outputs": [
        {
          "output_type": "execute_result",
          "data": {
            "text/plain": [
              "'Household'"
            ],
            "application/vnd.google.colaboratory.intrinsic+json": {
              "type": "string"
            }
          },
          "metadata": {},
          "execution_count": 23
        }
      ]
    },
    {
      "cell_type": "markdown",
      "source": [
        "## Inference pipeline"
      ],
      "metadata": {
        "id": "U2_-lF2d_ccF"
      }
    },
    {
      "cell_type": "code",
      "source": [
        "test_text = df['clean_description'][34567]\n",
        "predict_input = loaded_tokenizer.encode(test_text,\n",
        "                                 truncation=True,\n",
        "                                 padding=True,\n",
        "                                 return_tensors=\"tf\")\n",
        "output = loaded_model(predict_input)[0]\n",
        "prediction_value = tf.argmax(output, axis=1).numpy()[0]\n",
        "final_prediction_value = loaded_label_encoder.inverse_transform([prediction_value])[0]\n",
        "print(final_prediction_value)"
      ],
      "metadata": {
        "colab": {
          "base_uri": "https://localhost:8080/"
        },
        "id": "b_IATRugx1CP",
        "outputId": "5228f038-f2f9-401d-f2d0-d1cb51f08ed7"
      },
      "execution_count": 27,
      "outputs": [
        {
          "output_type": "stream",
          "name": "stdout",
          "text": [
            "Clothing & Accessories\n"
          ]
        }
      ]
    },
    {
      "cell_type": "code",
      "source": [
        "df['product_type'][34567]"
      ],
      "metadata": {
        "colab": {
          "base_uri": "https://localhost:8080/",
          "height": 35
        },
        "id": "19-rREZcyZX0",
        "outputId": "4d4446c2-3fef-4f56-815d-da5c48d6f1c4"
      },
      "execution_count": 28,
      "outputs": [
        {
          "output_type": "execute_result",
          "data": {
            "text/plain": [
              "'Clothing & Accessories'"
            ],
            "application/vnd.google.colaboratory.intrinsic+json": {
              "type": "string"
            }
          },
          "metadata": {},
          "execution_count": 28
        }
      ]
    },
    {
      "cell_type": "code",
      "source": [
        "df['clean_description'][34567]"
      ],
      "metadata": {
        "colab": {
          "base_uri": "https://localhost:8080/",
          "height": 35
        },
        "id": "GcRIz1hY_xjO",
        "outputId": "61166888-9fad-404e-dc56-80271729021f"
      },
      "execution_count": 29,
      "outputs": [
        {
          "output_type": "execute_result",
          "data": {
            "text/plain": [
              "'rupa thermocot men cotton thermal'"
            ],
            "application/vnd.google.colaboratory.intrinsic+json": {
              "type": "string"
            }
          },
          "metadata": {},
          "execution_count": 29
        }
      ]
    },
    {
      "cell_type": "code",
      "source": [],
      "metadata": {
        "id": "ktKu8-acy8-b"
      },
      "execution_count": null,
      "outputs": []
    }
  ]
}